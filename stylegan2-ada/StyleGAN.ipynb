{
 "cells": [
  {
   "metadata": {},
   "cell_type": "markdown",
   "source": [
    "# StyleGAN2-ada\n",
    "The following commands have been used to create the synthetic dataset using StyleGAN2-ada:"
   ],
   "id": "41c0e3cb78758260"
  },
  {
   "metadata": {
    "ExecuteTime": {
     "end_time": "2024-06-13T17:52:23.078590Z",
     "start_time": "2024-06-13T17:52:23.069545Z"
    }
   },
   "cell_type": "code",
   "source": [
    "# Preparing the dataset (executed in stylegan2-ada-pytorch)\n",
    "# python dataset_tool.py --source=../data/celeba/img_align_celeba --dest=../data/celeba/test --transform=center-crop --width=64 --height=64 --resize-filter=box\n",
    "\n",
    "# Train network on the celeba dataset (executed in stylegan2-ada-pytorch)\n",
    "# python train.py --outdir=../results/stlgan2-ada --data=../data/celeba/test --gpus=1 --mirror=1 --metrics=none --kimg=5000\n",
    "\n",
    "# Generate images from the trained model from .pkl file (executed in stylegan2-ada-pytorch)\n",
    "# python generate.py --outdir=../data/celeba_fake/stylegan2-ada/synthetic_training --trunc=0.5 --seeds=0-9999 --network=../results/stylegan2-ada/00000-test-auto1-kimg5000/network-snapshot-005000.pkl\n"
   ],
   "id": "6471f354ce18a663",
   "outputs": [
    {
     "ename": "IndexError",
     "evalue": "list index out of range",
     "output_type": "error",
     "traceback": [
      "\u001B[0;31m---------------------------------------------------------------------------\u001B[0m",
      "\u001B[0;31mIndexError\u001B[0m                                Traceback (most recent call last)",
      "\u001B[0;32m/tmp/ipykernel_32375/3596242466.py\u001B[0m in \u001B[0;36m<module>\u001B[0;34m\u001B[0m\n\u001B[1;32m     15\u001B[0m \u001B[0mimages\u001B[0m \u001B[0;34m=\u001B[0m \u001B[0mimages\u001B[0m\u001B[0;34m[\u001B[0m\u001B[0;34m:\u001B[0m\u001B[0;36m40\u001B[0m\u001B[0;34m]\u001B[0m\u001B[0;34m\u001B[0m\u001B[0;34m\u001B[0m\u001B[0m\n\u001B[1;32m     16\u001B[0m \u001B[0mimages\u001B[0m \u001B[0;34m=\u001B[0m \u001B[0;34m[\u001B[0m\u001B[0mImage\u001B[0m\u001B[0;34m.\u001B[0m\u001B[0mopen\u001B[0m\u001B[0;34m(\u001B[0m\u001B[0mimage\u001B[0m\u001B[0;34m)\u001B[0m \u001B[0;32mfor\u001B[0m \u001B[0mimage\u001B[0m \u001B[0;32min\u001B[0m \u001B[0mimages\u001B[0m\u001B[0;34m]\u001B[0m\u001B[0;34m\u001B[0m\u001B[0;34m\u001B[0m\u001B[0m\n\u001B[0;32m---> 17\u001B[0;31m \u001B[0mimages\u001B[0m\u001B[0;34m[\u001B[0m\u001B[0;36m0\u001B[0m\u001B[0;34m]\u001B[0m\u001B[0;34m.\u001B[0m\u001B[0msave\u001B[0m\u001B[0;34m(\u001B[0m\u001B[0;34m'../data/celeba_fake/stylegan2-ada/transition.mp4'\u001B[0m\u001B[0;34m,\u001B[0m \u001B[0msave_all\u001B[0m\u001B[0;34m=\u001B[0m\u001B[0;32mTrue\u001B[0m\u001B[0;34m,\u001B[0m \u001B[0mappend_images\u001B[0m\u001B[0;34m=\u001B[0m\u001B[0mimages\u001B[0m\u001B[0;34m[\u001B[0m\u001B[0;36m1\u001B[0m\u001B[0;34m:\u001B[0m\u001B[0;34m]\u001B[0m\u001B[0;34m,\u001B[0m \u001B[0mduration\u001B[0m\u001B[0;34m=\u001B[0m\u001B[0;36m100\u001B[0m\u001B[0;34m,\u001B[0m \u001B[0mloop\u001B[0m\u001B[0;34m=\u001B[0m\u001B[0;36m0\u001B[0m\u001B[0;34m)\u001B[0m\u001B[0;34m\u001B[0m\u001B[0;34m\u001B[0m\u001B[0m\n\u001B[0m\u001B[1;32m     18\u001B[0m \u001B[0;34m\u001B[0m\u001B[0m\n",
      "\u001B[0;31mIndexError\u001B[0m: list index out of range"
     ]
    }
   ],
   "execution_count": 4
  }
 ],
 "metadata": {
  "kernelspec": {
   "display_name": "Python 3",
   "language": "python",
   "name": "python3"
  },
  "language_info": {
   "codemirror_mode": {
    "name": "ipython",
    "version": 2
   },
   "file_extension": ".py",
   "mimetype": "text/x-python",
   "name": "python",
   "nbconvert_exporter": "python",
   "pygments_lexer": "ipython2",
   "version": "2.7.6"
  }
 },
 "nbformat": 4,
 "nbformat_minor": 5
}
